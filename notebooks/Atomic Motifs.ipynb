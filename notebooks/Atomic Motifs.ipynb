{
 "cells": [
  {
   "cell_type": "markdown",
   "metadata": {},
   "source": [
    "![Callysto.ca Banner](https://github.com/callysto/curriculum-notebooks/blob/master/callysto-notebook-banner-top.jpg?raw=true)"
   ]
  },
  {
   "cell_type": "markdown",
   "metadata": {},
   "source": [
    "<center><h1>Atomic Motifs</h1></center>\n",
    "    \n",
    "#### Authors: Howell Tan, Jenifer Pham & Laura Gutierrez Funderburk, Cedric Chauve\n",
    "#### Contact: [Dr. Cedric Chauve](https://cchauve.github.io) and [Dr. Veselin Jungic](http://people.math.sfu.ca/~vjungic/)\n",
    "#### This is joint collaboration with Tla'amin Nation members: Ms. Betty Wilson, Ms. Gail Blaine, and Mr. Tyler Peters.\n",
    "#### Acknowledgements:\n",
    "We thank the Tla'amin Nation and members Ms. Betty Wilson, Ms. Gail Blaine, and Mr. Tyler Peters for sharing their knowledge and wisdom on the craft of traditional basket weaving. Without their openness this project would have not taken place. We also acknowledge that this work was conducted in unceded territory of the Musqueam , Skxwú7mesh, Tsleil-Waututh, Kwikwetlem nations. We thank PIMS and Cybera, as well as the Government of Canada for providing financial support and infrastructure.\n",
    "#### Last modified: October 26, 2018"
   ]
  },
  {
   "cell_type": "markdown",
   "metadata": {},
   "source": [
    "## Baskets Motifs & Mathematics\n",
    "\n",
    "Woven baskets are three dimensional (3D) objects onto which two dimensional (2D) geometric figures (called **motifs** or **patterns**) are represented and often repeated with some kind of symmetry. The present notebook is focusing on the patterns observed on the baskets shown in the figure below, that were presented to us during a visit to the [Tla'amin nation](http://www.tlaaminnation.com) in May 2018. These two baskets are composed of a circular basket containing  a single repeated pattern and a rectangular basket with 4 faces, representing two patterns.\n",
    "\n",
    "<p align='center'>Circular Basket: Triangular Motif</p>   |  <p align='center'> Rectangular Basket: Rectangular and Triangular Motifs </h3></p>\n",
    ":-------------------------:|:-------------------------:\n",
    "![CB](./images/20180509_150932.jpg)|![RB](./images/20180509_150313.jpg)|\n",
    "\n",
    "###### Tla'amin Nation Baskets. Photographs by Alex Sutcliffe, IT Coordinator, TLA'AMIN NATION. \n",
    "\n",
    "\n",
    "\n",
    "Unlike usual geometric figures, motifs observed on baskets are not composed of pure lines and points, but of an *assemblage* of rectangular units (that we call *blocks* from now) resulting of the process of weaving lanes obtained from cedar bark or root. Moreover, these motifs are *colored* leading to an additional important feature/dimension to their modeling.\n",
    "\n",
    "Our approach toward providing a tool that allows to explore the design of woven basket patterns is to *reduce* the notion of motif to a sequence of *geometric operations* applied successively to an initial *simple shape*, both these operations and initial shape being defined by very few mathematical parameters.\n",
    "\n",
    "We insist on the fact that abstracting motifs to a few mathematical parameters is reducing, as, by taking away the actual human aspects of making a basket it results in extremely regular motifs that do not reflect the visual beauty and complexity of the patterns observed on real baskets. On the other hand, the ability to work with a few parameters allows to integrate them into computer programs, such as the one hidden in this notebook. "
   ]
  },
  {
   "cell_type": "markdown",
   "metadata": {},
   "source": [
    "## The Geometric Operations\n",
    "\n",
    "We present now the various geometric operations that we can apply to a given motif in order to create a more complex motif. There are three such operations: *flip*, *reflection* and *stacking*.\n",
    "\n",
    "### Flip\n",
    "To *flip* a motif means to take the motif's *mirror image*. That is, if we were to hold a mirror above, below, or to the side of a motif, then the figure we see through the mirror is the flipped motif. By holding the mirror above or below the motif we would obtain a motif that has been *flipped horizontally.* Holding the mirror to the sides of the motif results in a motif that has been *flipped vertically.* Note that the mirror would have been held horizontally and vertically respectively.\n",
    "\n",
    "The image below shows an example of horizontal and vertical flipping.\n",
    "\n",
    "<center> <img src=\"./images/flip-operation.png\" alt=\"Flip Operation\" width = 65%>' </center>\n",
    "\n",
    "### Reflection\n",
    "\n",
    "To *reflect* a motif is to take the motif itself along with its mirror image. Similar to flipping a motif, we can *reflect horizontally* by placing a mirror above or below the motif and we can *reflect vertically* by placing the mirror to the left or to the right side of a motif. We see that horizontal reflections are symmetrical about a horizontal line and vertical reflections are symmetrical about a vertical line.\n",
    "\n",
    "With reflections, we have the option to control the spacing between the motifs. We define a spacing equal to -1 as overlapping while a spacing equal to 0 results in the motifs being side by side with no space in between. Note that we set the space before any reflecting occurs and as a result (and with exception to a spacing equal to -1), the amount of spacing displayed between the motifs is doubled the amount of spacing that was set.\n",
    "\n",
    "The image below shows an example of horizontal and vertical reflecting. The motif reflected horizontally is reflected below and the motif reflected vertically is reflected right.\n",
    "\n",
    "<center> <img src=\"./images/reflect-operation.png\" alt=\"Reflect Operation\" width = 65%>' </center>\n",
    "\n",
    "### Stacking\n",
    "\n",
    "To *stack* a motif is to duplicate the motif and move the duplicate away from the initial motif. So, to *stack horizontally* is to duplicate the motif and fully move the duplicate to the right of the initial motif. To *stack vertically* is to duplicate the motif and fully move the duplicate directly above the initial motif. Note that moving the duplicate directly below or to the left of the initial motif will obtain the same results. To *stack diagonally* is duplicate the motif and move the duplicate directly above the initial motif then to the left or to the right of the motif.\n",
    "\n",
    "Similar to reflecting, we have the option to control the spacing between the motifs. Unlike reflecting, the option to overlap is unavailable and the amount of spacing we set is exactly the amount of spacing that appears in the figure. \n",
    "\n",
    "The image below shows the three ways to stack a motif along with the area defined as spacing. The motif stacked diagonally is stacked diagonally to the right.\n",
    "\n",
    "<center> <img src=\"./images/stack-operation.png\" alt=\"Stack Operation\" width = 100%>' </center>"
   ]
  },
  {
   "cell_type": "markdown",
   "metadata": {},
   "source": [
    "## An interactive tool to design basket motifs\n",
    "\n",
    "We introduce below a first draft of an interactive tool aimed at designing motifs observed on baskets. the general principle is simple: a motif is obtained from a simple starting shape, that can be defined with few parameters, that is duplicated using mathematical operators involving vertical and horizontal symmetry. \n",
    "\n",
    "This principle can be developed further,but in this first draft, we apply it to the motifs observed in the two baskets shown above, as an illustration of its potential.\n",
    "\n",
    "With the tool below, we start by choosing a given initial shape, either among a set of three possible ones, each with some associated parameters, or by uploading an already saved motif. Then we can apply successively the operators described above to generate a complex motif."
   ]
  },
  {
   "cell_type": "markdown",
   "metadata": {},
   "source": [
    "___\n",
    "\n",
    "Press the >|Run button (or press SHIFT + Enter) to run the cells below. \n",
    "\n",
    "Use the buttons to interact with different patterns. "
   ]
  },
  {
   "cell_type": "code",
   "execution_count": null,
   "metadata": {},
   "outputs": [],
   "source": [
    "%run -i ./python_scripts/modules.py\n",
    "%run -i ./python_scripts/colours.py\n",
    "%run -i ./python_scripts/atomic_rectangle.py\n",
    "%run -i ./python_scripts/atomic_triangle.py\n",
    "%run -i ./python_scripts/atomic_chevron.py\n",
    "%run -i ./python_scripts/operations.py\n",
    "%run -i ./python_scripts/plotting.py\n",
    "%run -i ./python_scripts/backend_atomic_motif.py"
   ]
  },
  {
   "cell_type": "code",
   "execution_count": null,
   "metadata": {},
   "outputs": [],
   "source": [
    "display(motif_options)\n",
    "motif_options.observe(toggle_button_run_cell, 'value')"
   ]
  },
  {
   "cell_type": "code",
   "execution_count": null,
   "metadata": {},
   "outputs": [],
   "source": [
    "current_motif = motif_options.value\n",
    "display_motif_using_option(current_motif)"
   ]
  },
  {
   "cell_type": "code",
   "execution_count": null,
   "metadata": {},
   "outputs": [],
   "source": [
    "# Create Stacks used to record edits\n",
    "main = Stack()\n",
    "backup = Stack()"
   ]
  },
  {
   "cell_type": "code",
   "execution_count": null,
   "metadata": {},
   "outputs": [],
   "source": [
    "%run -i ./python_scripts/slider_ui.py"
   ]
  },
  {
   "cell_type": "code",
   "execution_count": null,
   "metadata": {},
   "outputs": [],
   "source": [
    "# Display Sliders for Parameters\n",
    "display_sliders(current_motif)"
   ]
  },
  {
   "cell_type": "code",
   "execution_count": null,
   "metadata": {},
   "outputs": [],
   "source": [
    "# Create atomic piece\n",
    "%run -i ./python_scripts/display_motif.py"
   ]
  },
  {
   "cell_type": "code",
   "execution_count": null,
   "metadata": {},
   "outputs": [],
   "source": [
    "%matplotlib inline\n",
    "%run -i ./python_scripts/geometrical_operation_application.py"
   ]
  },
  {
   "cell_type": "markdown",
   "metadata": {},
   "source": [
    "[![Callysto.ca License](https://github.com/callysto/curriculum-notebooks/blob/master/callysto-notebook-banner-bottom.jpg?raw=true)](https://github.com/callysto/curriculum-notebooks/blob/master/LICENSE.md)"
   ]
  }
 ],
 "metadata": {
  "kernelspec": {
   "display_name": "Python 3",
   "language": "python",
   "name": "python3"
  },
  "language_info": {
   "codemirror_mode": {
    "name": "ipython",
    "version": 3
   },
   "file_extension": ".py",
   "mimetype": "text/x-python",
   "name": "python",
   "nbconvert_exporter": "python",
   "pygments_lexer": "ipython3",
   "version": "3.8.5"
  }
 },
 "nbformat": 4,
 "nbformat_minor": 4
}
